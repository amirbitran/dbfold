{
 "cells": [
  {
   "cell_type": "markdown",
   "metadata": {},
   "source": [
    "# Update folding rates"
   ]
  },
  {
   "cell_type": "markdown",
   "metadata": {},
   "source": [
    "We will load the folding rates for protein G that we computed in dbfold_test"
   ]
  },
  {
   "cell_type": "code",
   "execution_count": null,
   "metadata": {},
   "outputs": [],
   "source": [
    "import dbfold\n",
    "from dbfold.dbfold import Protein as Protein\n",
    "import dbfold.analyze_structures as analyze_structures\n",
    "import dbfold.load_data as load_data\n",
    "import dbfold.compute_PMF as compute_PMF\n",
    "import dbfold.folding_rates as folding_rates\n",
    "import dbfold.kinetic_model as kinetic_model\n",
    "import dbfold.nonnative_states as nonnative_states\n",
    "import matplotlib.pyplot as plt\n",
    "\n",
    "\n",
    "proteinG = Protein('protein G','1igd_data/1igd_0.200_20_Emin.pdb')\n",
    "\n"
   ]
  }
 ],
 "metadata": {
  "kernelspec": {
   "display_name": "Python 3",
   "language": "python",
   "name": "python3"
  },
  "language_info": {
   "codemirror_mode": {
    "name": "ipython",
    "version": 3
   },
   "file_extension": ".py",
   "mimetype": "text/x-python",
   "name": "python",
   "nbconvert_exporter": "python",
   "pygments_lexer": "ipython3",
   "version": "3.7.3"
  }
 },
 "nbformat": 4,
 "nbformat_minor": 2
}
