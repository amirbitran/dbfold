{
 "cells": [
  {
   "cell_type": "markdown",
   "metadata": {},
   "source": [
    "# protein 161 dbfold test"
   ]
  },
  {
   "cell_type": "code",
   "execution_count": null,
   "metadata": {},
   "outputs": [],
   "source": []
  },
  {
   "cell_type": "code",
   "execution_count": 1,
   "metadata": {},
   "outputs": [],
   "source": [
    "import dbfold\n",
    "from dbfold.dbfold import Protein as Protein\n",
    "import dbfold.analyze_structures as analyze_structures\n",
    "import dbfold.load_data as load_data\n",
    "import dbfold.compute_PMF as compute_PMF\n",
    "import dbfold.folding_rates as folding_rates\n",
    "import dbfold.kinetic_model as kinetic_model\n",
    "import dbfold.nonnative_states as nonnative_states\n",
    "import matplotlib.pyplot as plt\n",
    "import importlib"
   ]
  },
  {
   "cell_type": "markdown",
   "metadata": {},
   "source": [
    "First thing to do is visualize native substructures and also count total number of contacts. This is useful so that we can properly set up umbrella biasing in the energy minimizaiton simulations. Make sure to set the d_cutoff and min_seq_separation values to whatever you plan to use in the simulation!\n"
   ]
  },
  {
   "cell_type": "code",
   "execution_count": 3,
   "metadata": {},
   "outputs": [
    {
     "name": "stdout",
     "output_type": "stream",
     "text": [
      "hi\n",
      "This protein has 102 contacts\n"
     ]
    }
   ],
   "source": [
    "unequilibrated_protein161 = Protein('protein 161','cts1_2uy3_len_161/cts1_2uy3_len_161.pdb')\n",
    "print('This protein has {} contacts'.format(unequilibrated_protein161.count_contacts(d_cutoff=6, min_seq_separation=8)))\n"
   ]
  },
  {
   "cell_type": "markdown",
   "metadata": {},
   "source": [
    "# Running simulations and extracting data"
   ]
  },
  {
   "cell_type": "markdown",
   "metadata": {},
   "source": [
    "The next step is to run minimization simulations, to equilibrate the protein in the potential. This can be done with the MCPU Monte-Carlos package, which is included as part of dbfold--detailed instructions are available in the MCPU Readme. Upon obtaining a minimized PDB structure, we count its contacts (for use in setting up umbrella biasing) and identify substructures. It may be worth experimenting to find parameters that produce sensible substructures for a given protein. We will both visualize the substructures on a contact map, and also produce a .pml file, which contains a series of commands to visualize these substructures directly on the equlibrated structure in PYMOL. This .pml file should be be opened along with the equilibrated .pdb in PYMOL.\n",
    "We also save the substructure as a file 1igd_data/Substructures.dat\n",
    "\n",
    "We note that the d_cutoff value used to generate substructures need not be the same as the one used to define contacts in the umbrella simulations, and likewise for min_seq_separation. In general, there may be two definitions of contacts: one that is used duruing simulation to perform umbrella biasing, and one that is used to produce substructures during analysis.\n",
    "\n",
    "Finally we set the value of f to 1.7 as in the paper\n"
   ]
  },
  {
   "cell_type": "code",
   "execution_count": 2,
   "metadata": {},
   "outputs": [
    {
     "name": "stdout",
     "output_type": "stream",
     "text": [
      "hi\n",
      "This protein has 228 contacts\n"
     ]
    }
   ],
   "source": [
    "protein161 = Protein('protein 161','../Olivia_data/cts1_Emin.pdb')\n",
    "print('This protein has {} contacts'.format(protein161.count_contacts(d_cutoff=6, min_seq_separation=8)))\n",
    "protein161.f = 1.7\n",
    "\n"
   ]
  },
  {
   "cell_type": "code",
   "execution_count": 5,
   "metadata": {},
   "outputs": [
    {
     "name": "stdout",
     "output_type": "stream",
     "text": [
      "hi\n",
      "This protein has 228 contacts\n"
     ]
    }
   ],
   "source": [
    "%matplotlib qt\n",
    "full_protein = Protein('protein F','cts1_Emin.pdb')\n",
    "print('This protein has {} contacts'.format(full_protein.count_contacts(d_cutoff=6, min_seq_separation=8)))\n",
    "full_protein.generate_subs(d_cutoff=6, min_seq_separation=8, contact_sep_thresh=6, min_clustersize=8, savepath = 'cts1_full_substructures.dat')\n"
   ]
  },
  {
   "cell_type": "markdown",
   "metadata": {},
   "source": [
    "Next, we run equilibrium and unfolding simulations. As above, details for how to run these simulations in MCPU are available in the README.\n",
    "We then extract data from these simulations for further analysis using the following steps:\n",
    "\n",
    "   1. We run the script read_log_files.py to extract energies, number of native contacts, RMSD, and other variables of interest from the log file for each MC step at which these values were printed. It is only necessary that this be done for equilibrium simulations. The output is saved in a .dat file (for example, 1igd_data/Equilibrium_log_data.dat).\n",
    "\n",
    "   2. We run get_snapshot_configs.py to obtain substructure scores from PDB files, which are necessary to assign each PDB snapshot to a topological configuration. This script can either generate the substructures de novo, which requires that we input the parameters to create the substructures used above, or it can be given a file Substructures.dat, which can be produced when generating substructures above if savepath is set to something other than None (the default value). The output is saved in a .dat file (for example, 1igd_data/Equilibrium_scores.dat and 1igd_data/Unfolding_scores.dat). This step should be run for both equilibrium and unfolding simulations.\n",
    "\n",
    "\n",
    "IMPORTANT: The dbfold analysis package requires that the MCPU parameters MC_PRINT_STEPS and \n",
    "MC_PDB_PRINT_STEPS, which are set in the cfg files, have the same value. This ensures that the MC steps printed in the log files correspond to those for which PDB files are produced.\n",
    "\n",
    "This algorithm can also be used with alternative simulation packages, including MD software, but the above scripts must be adapted to work with the PDB naming conventions and log file format for whichever program is used.\n",
    "\n"
   ]
  },
  {
   "cell_type": "markdown",
   "metadata": {},
   "source": [
    "# Equilibrium properties"
   ]
  },
  {
   "cell_type": "markdown",
   "metadata": {},
   "source": [
    "Let's load the test data for protein 161. First, indicate the directory where the equilibrium data is stored, which in our case is 1igd_data. By default, this assumes the log data filename is Equilibrium_log_data.dat and the scores filename is Equilibrium_scores.dat, but these can be changed via the optional arguments log_data_filename and score_filename, respectively"
   ]
  },
  {
   "cell_type": "code",
   "execution_count": 6,
   "metadata": {},
   "outputs": [
    {
     "name": "stdout",
     "output_type": "stream",
     "text": [
      "The equilibrium log datapath has been set as cts1_2uy3_len_161/log_cont.dat and the scorepath as cts1_2uy3_len_161/score_cont.dat\n"
     ]
    }
   ],
   "source": [
    "protein161.set_eq_path('cts1_2uy3_len_161', log_data_filename = \"log_cont.dat\", score_filename = \"score_cont.dat\"  )"
   ]
  },
  {
   "cell_type": "markdown",
   "metadata": {},
   "source": [
    "We note that this file contains the data for the last 300 milion MC steps of a simulation that was run for a total of 1.2 billon MC steps.\n",
    "Now, we assess convergence for the equilibrium simulations. To do this, we plot the simulation energy as a function of MC step, averaged over a sliding window of 50 million MC steps. We will do this at a number of temperatures, T = 0.8, 0.9, and 0.975"
   ]
  },
  {
   "cell_type": "code",
   "execution_count": 7,
   "metadata": {},
   "outputs": [],
   "source": [
    "#fig, ax = plt.subplots(1,3)\n",
    "#plt.subplots_adjust(wspace = 3)\n",
    "compute_PMF.plotTrajectoryTimecourses(protein161.log_datapath, 'natives', \n",
    "                          ['0.800_40.', '0.800_30.', '0.800_20.', '0.800_10.', '0.800_0.'], \n",
    "                          colors = ['b','g','r','c','m'], \n",
    "                          labels = ['S = 40', 'S = 30','S = 20','S = 10','S = 0'], sliding_windowlen = 50, \n",
    "                                     legend_fontsize = 15)\n",
    "\n",
    "compute_PMF.plotTrajectoryTimecourses(protein161.log_datapath, 'natives', \n",
    "                          ['0.900_40.', '0.900_30.', '0.900_20.', '0.900_10.', '0.900_0.'], \n",
    "                          colors = ['b','g','r','c','m'], \n",
    "                          labels = ['S = 40', 'S = 30','S = 20','S = 10','S = 0'], sliding_windowlen = 50, \n",
    "                                     legend_fontsize = 15)\n",
    "\n",
    "compute_PMF.plotTrajectoryTimecourses(protein161.log_datapath, 'natives', \n",
    "                          ['0.975_40.', '0.975_30.', '0.975_20.', '0.975_10.', '0.975_0.'], \n",
    "                          colors = ['b','g','r','c','m'], \n",
    "                          labels = ['S = 40', 'S = 30','S = 20','S = 10','S = 0'], sliding_windowlen = 50, \n",
    "                                     legend_fontsize = 15)\n"
   ]
  },
  {
   "cell_type": "code",
   "execution_count": 8,
   "metadata": {},
   "outputs": [
    {
     "data": {
      "text/plain": [
       "'cts1_2uy3_len_161/log_cont.dat'"
      ]
     },
     "execution_count": 8,
     "metadata": {},
     "output_type": "execute_result"
    }
   ],
   "source": [
    "protein161.log_datapath"
   ]
  },
  {
   "cell_type": "markdown",
   "metadata": {},
   "source": [
    "From the above plots, it appears that beyond 150 million MC steps, these energies generally cease changing substantially. Thus we will compute all equilibium thermodynamic properties starting with this timestep.\n",
    "We do this below. As in the paper, we define a substructure using a value of f=1.7, where f is the maximum value of the average distance between residues assigned to a substructure within a snapshot\n",
    "dived by that same average distance in the native file such that a substructure is considered formed\n",
    "\n",
    "The k_bias value should always correspond to the one used in umbrella simulations. This assumes biasing was performed along native contacts\n"
   ]
  },
  {
   "cell_type": "code",
   "execution_count": null,
   "metadata": {},
   "outputs": [
    {
     "name": "stdout",
     "output_type": "stream",
     "text": [
      "Need to compute PMFs using MBAR!\n",
      "Computing PMFs vs natives..\n",
      "# loading data...\n",
      "# calculating potential...\n",
      "# Computing normalizations...\n"
     ]
    }
   ],
   "source": [
    "protein161.obtain_PMFs(eq_step=200000000, k_bias = 0.02)"
   ]
  },
  {
   "cell_type": "markdown",
   "metadata": {},
   "source": [
    "We will now plot a melting curve that shows fraction of native contacts (using the contacts definition in the umbrella simulations) as a function of temperature. There are two ways of doing this:"
   ]
  },
  {
   "cell_type": "code",
   "execution_count": null,
   "metadata": {},
   "outputs": [],
   "source": [
    "%matplotlib qt\n",
    "protein161.plot_melting_curve()"
   ]
  },
  {
   "cell_type": "code",
   "execution_count": null,
   "metadata": {},
   "outputs": [],
   "source": [
    "compute_PMF.plot_natives_vs_temp(['cts1_2uy3_len_161'], ['protein 161'], norm = 'Fraction', d_cutoff =6, \n",
    "                     Native_structures = ['cts1_2uy3_len_161/cts1_2uy3_len_161_0.100_20_Emin.pdb'])"
   ]
  },
  {
   "cell_type": "code",
   "execution_count": 11,
   "metadata": {},
   "outputs": [],
   "source": [
    "importlib.reload(dbfold.compute_PMF)\n",
    "\n",
    "compute_PMF.plot_substructure_PMF('cts1_2uy3_len_161/PMFs.dat', [0.4])\n",
    "compute_PMF.plot_substructure_PMF('cts1_2uy3_len_161/PMFs.dat', [0.6])\n",
    "compute_PMF.plot_substructure_PMF('cts1_2uy3_len_161/PMFs.dat', [0.7])\n",
    "compute_PMF.plot_substructure_PMF('cts1_2uy3_len_161/PMFs.dat', [0.9])"
   ]
  },
  {
   "cell_type": "markdown",
   "metadata": {},
   "source": [
    "# Nonnative contacts"
   ]
  },
  {
   "cell_type": "markdown",
   "metadata": {},
   "source": [
    "To produce nonnative contact maps, we must run the script get_snapshot_contact_maps.py, which extracts contact maps (including both native and nonnative contacts--the former can be filtered out in subsequent analyses) for snapshots of interest (for instnace, those assigned to a specific subset of topological configuration at a specific temperature range). These contact maps are saved in a .dat file (e.g. 1igd_data/Nonnative_maps(b)c.dat), and they are analyzed below.\n",
    "\n",
    "For the case of protein 161 consider the nonnative contacts among all snapshots assigned to topological configurations c or bc at physiologically reasonable temperatures. We can visualize the average nonnative contact map among such snapshots by accessing the data stored in 1igd_data/Nonnative_maps_(b)c.dat"
   ]
  },
  {
   "cell_type": "code",
   "execution_count": 40,
   "metadata": {},
   "outputs": [],
   "source": [
    "nonnative_states.visualize_nonnatives('cts1_2uy3_len_161/cluster.dat', protein161.native_structure, d_cutoff = 6, min_seq_separation = 8 ,filter_distance = 2,cmap = 'Reds')"
   ]
  },
  {
   "cell_type": "markdown",
   "metadata": {},
   "source": [
    "We can also cluster these snapshots into structurally distinct, recurrent nonnative states.\n",
    "You can experiment with the thresh, which is the maximum allowed Hamming distance between the nonnative contact maps for two snapshots such that they are clustered together"
   ]
  },
  {
   "cell_type": "code",
   "execution_count": 41,
   "metadata": {},
   "outputs": [
    {
     "name": "stdout",
     "output_type": "stream",
     "text": [
      "Mean number of nonnative contacts is 33.05731225296443\n"
     ]
    }
   ],
   "source": [
    "clusters, percentages, mean_maps = nonnative_states.cluster_nonnatives('cts1_2uy3_len_161/cluster.dat', protein161.native_structure, d_cutoff = 6, \n",
    "                                                                       filter_distance = 2,min_seq_separation = 3 ,cmap = 'Reds', thresh = 10)"
   ]
  },
  {
   "cell_type": "code",
   "execution_count": 42,
   "metadata": {},
   "outputs": [
    {
     "data": {
      "text/plain": [
       "['cts1_2uy3_len_161_0.675_20.150500000',\n",
       " 'cts1_2uy3_len_161_0.650_0.85000000',\n",
       " 'cts1_2uy3_len_161_0.650_10.78500000',\n",
       " 'cts1_2uy3_len_161_0.675_0.93000000',\n",
       " 'cts1_2uy3_len_161_0.675_10.113500000',\n",
       " 'cts1_2uy3_len_161_0.650_10.87500000',\n",
       " 'cts1_2uy3_len_161_0.625_0.27000000',\n",
       " 'cts1_2uy3_len_161_0.650_10.68500000',\n",
       " 'cts1_2uy3_len_161_0.625_0.47500000',\n",
       " 'cts1_2uy3_len_161_0.600_0.30500000',\n",
       " 'cts1_2uy3_len_161_0.675_10.114000000',\n",
       " 'cts1_2uy3_len_161_0.675_20.105000000',\n",
       " 'cts1_2uy3_len_161_0.625_0.44500000',\n",
       " 'cts1_2uy3_len_161_0.625_0.29500000',\n",
       " 'cts1_2uy3_len_161_0.650_0.85500000',\n",
       " 'cts1_2uy3_len_161_0.650_0.84500000',\n",
       " 'cts1_2uy3_len_161_0.675_20.104500000',\n",
       " 'cts1_2uy3_len_161_0.675_10.137500000',\n",
       " 'cts1_2uy3_len_161_0.650_0.79500000',\n",
       " 'cts1_2uy3_len_161_0.600_0.61000000',\n",
       " 'cts1_2uy3_len_161_0.650_0.86500000',\n",
       " 'cts1_2uy3_len_161_0.675_10.140000000',\n",
       " 'cts1_2uy3_len_161_0.650_10.87000000',\n",
       " 'cts1_2uy3_len_161_0.625_0.46500000',\n",
       " 'cts1_2uy3_len_161_0.625_0.71000000',\n",
       " 'cts1_2uy3_len_161_0.650_0.91000000',\n",
       " 'cts1_2uy3_len_161_0.675_0.92500000',\n",
       " 'cts1_2uy3_len_161_0.625_0.72000000',\n",
       " 'cts1_2uy3_len_161_0.650_10.89000000',\n",
       " 'cts1_2uy3_len_161_0.625_0.28000000',\n",
       " 'cts1_2uy3_len_161_0.675_10.138500000',\n",
       " 'cts1_2uy3_len_161_0.675_10.114500000',\n",
       " 'cts1_2uy3_len_161_0.675_10.112000000',\n",
       " 'cts1_2uy3_len_161_0.650_0.83000000',\n",
       " 'cts1_2uy3_len_161_0.650_0.94500000',\n",
       " 'cts1_2uy3_len_161_0.675_20.103000000',\n",
       " 'cts1_2uy3_len_161_0.650_10.78000000',\n",
       " 'cts1_2uy3_len_161_0.675_10.141000000',\n",
       " 'cts1_2uy3_len_161_0.675_10.129500000',\n",
       " 'cts1_2uy3_len_161_0.625_0.28500000',\n",
       " 'cts1_2uy3_len_161_0.650_10.68000000',\n",
       " 'cts1_2uy3_len_161_0.600_0.31500000',\n",
       " 'cts1_2uy3_len_161_0.625_0.27500000',\n",
       " 'cts1_2uy3_len_161_0.600_0.60500000',\n",
       " 'cts1_2uy3_len_161_0.625_0.71500000',\n",
       " 'cts1_2uy3_len_161_0.650_0.84000000',\n",
       " 'cts1_2uy3_len_161_0.650_0.86000000',\n",
       " 'cts1_2uy3_len_161_0.625_0.80500000',\n",
       " 'cts1_2uy3_len_161_0.650_10.69500000',\n",
       " 'cts1_2uy3_len_161_0.675_0.75500000',\n",
       " 'cts1_2uy3_len_161_0.625_0.65000000',\n",
       " 'cts1_2uy3_len_161_0.675_0.15000000',\n",
       " 'cts1_2uy3_len_161_0.625_0.43500000',\n",
       " 'cts1_2uy3_len_161_0.650_10.90500000',\n",
       " 'cts1_2uy3_len_161_0.650_0.91500000',\n",
       " 'cts1_2uy3_len_161_0.625_0.45500000',\n",
       " 'cts1_2uy3_len_161_0.675_10.136000000',\n",
       " 'cts1_2uy3_len_161_0.650_0.93500000',\n",
       " 'cts1_2uy3_len_161_0.675_10.140500000',\n",
       " 'cts1_2uy3_len_161_0.675_10.139000000',\n",
       " 'cts1_2uy3_len_161_0.675_0.72500000',\n",
       " 'cts1_2uy3_len_161_0.650_0.83500000',\n",
       " 'cts1_2uy3_len_161_0.675_20.104000000',\n",
       " 'cts1_2uy3_len_161_0.600_0.49000000',\n",
       " 'cts1_2uy3_len_161_0.625_0.81000000',\n",
       " 'cts1_2uy3_len_161_0.675_10.130000000',\n",
       " 'cts1_2uy3_len_161_0.600_0.59500000',\n",
       " 'cts1_2uy3_len_161_0.650_10.70000000',\n",
       " 'cts1_2uy3_len_161_0.625_0.64000000',\n",
       " 'cts1_2uy3_len_161_0.650_0.41500000',\n",
       " 'cts1_2uy3_len_161_0.675_20.102500000',\n",
       " 'cts1_2uy3_len_161_0.625_0.66500000',\n",
       " 'cts1_2uy3_len_161_0.650_0.42500000',\n",
       " 'cts1_2uy3_len_161_0.675_20.103500000',\n",
       " 'cts1_2uy3_len_161_0.650_0.94000000',\n",
       " 'cts1_2uy3_len_161_0.600_0.48000000',\n",
       " 'cts1_2uy3_len_161_0.625_0.47000000',\n",
       " 'cts1_2uy3_len_161_0.650_10.88500000',\n",
       " 'cts1_2uy3_len_161_0.625_0.82000000',\n",
       " 'cts1_2uy3_len_161_0.625_0.45000000',\n",
       " 'cts1_2uy3_len_161_0.650_0.82500000',\n",
       " 'cts1_2uy3_len_161_0.650_10.77000000',\n",
       " 'cts1_2uy3_len_161_0.650_10.110500000',\n",
       " 'cts1_2uy3_len_161_0.650_10.79000000',\n",
       " 'cts1_2uy3_len_161_0.625_0.62000000',\n",
       " 'cts1_2uy3_len_161_0.650_10.88000000',\n",
       " 'cts1_2uy3_len_161_0.625_0.64500000',\n",
       " 'cts1_2uy3_len_161_0.650_0.67000000',\n",
       " 'cts1_2uy3_len_161_0.650_10.90000000',\n",
       " 'cts1_2uy3_len_161_0.675_10.113000000',\n",
       " 'cts1_2uy3_len_161_0.650_0.43000000',\n",
       " 'cts1_2uy3_len_161_0.650_10.76500000',\n",
       " 'cts1_2uy3_len_161_0.625_0.81500000',\n",
       " 'cts1_2uy3_len_161_0.675_10.137000000',\n",
       " 'cts1_2uy3_len_161_0.650_0.42000000',\n",
       " 'cts1_2uy3_len_161_0.650_0.92000000',\n",
       " 'cts1_2uy3_len_161_0.600_0.48500000',\n",
       " 'cts1_2uy3_len_161_0.675_0.74500000',\n",
       " 'cts1_2uy3_len_161_0.625_0.61500000',\n",
       " 'cts1_2uy3_len_161_0.650_0.80000000',\n",
       " 'cts1_2uy3_len_161_0.625_0.46000000',\n",
       " 'cts1_2uy3_len_161_0.675_10.141500000',\n",
       " 'cts1_2uy3_len_161_0.675_10.115000000',\n",
       " 'cts1_2uy3_len_161_0.650_0.67500000',\n",
       " 'cts1_2uy3_len_161_0.650_10.89500000',\n",
       " 'cts1_2uy3_len_161_0.625_0.30000000',\n",
       " 'cts1_2uy3_len_161_0.650_0.76000000']"
      ]
     },
     "execution_count": 42,
     "metadata": {},
     "output_type": "execute_result"
    }
   ],
   "source": [
    "clusters[0]"
   ]
  },
  {
   "cell_type": "code",
   "execution_count": 44,
   "metadata": {},
   "outputs": [
    {
     "data": {
      "text/plain": [
       "['cts1_2uy3_len_161_0.675_10.235000000',\n",
       " 'cts1_2uy3_len_161_0.600_0.215500000',\n",
       " 'cts1_2uy3_len_161_0.625_0.208000000',\n",
       " 'cts1_2uy3_len_161_0.625_0.185000000',\n",
       " 'cts1_2uy3_len_161_0.650_0.190500000',\n",
       " 'cts1_2uy3_len_161_0.650_0.218500000',\n",
       " 'cts1_2uy3_len_161_0.625_0.172500000',\n",
       " 'cts1_2uy3_len_161_0.675_0.178500000',\n",
       " 'cts1_2uy3_len_161_0.650_0.173000000',\n",
       " 'cts1_2uy3_len_161_0.625_0.217500000',\n",
       " 'cts1_2uy3_len_161_0.625_0.184500000',\n",
       " 'cts1_2uy3_len_161_0.650_0.195000000',\n",
       " 'cts1_2uy3_len_161_0.650_0.211500000',\n",
       " 'cts1_2uy3_len_161_0.650_0.210000000',\n",
       " 'cts1_2uy3_len_161_0.625_0.212500000',\n",
       " 'cts1_2uy3_len_161_0.650_0.191500000',\n",
       " 'cts1_2uy3_len_161_0.625_0.171000000',\n",
       " 'cts1_2uy3_len_161_0.675_0.181000000',\n",
       " 'cts1_2uy3_len_161_0.650_0.205500000',\n",
       " 'cts1_2uy3_len_161_0.650_0.182500000',\n",
       " 'cts1_2uy3_len_161_0.675_0.220500000',\n",
       " 'cts1_2uy3_len_161_0.625_0.213500000',\n",
       " 'cts1_2uy3_len_161_0.650_0.211000000',\n",
       " 'cts1_2uy3_len_161_0.675_0.176500000',\n",
       " 'cts1_2uy3_len_161_0.650_0.209500000',\n",
       " 'cts1_2uy3_len_161_0.675_0.179500000',\n",
       " 'cts1_2uy3_len_161_0.650_0.183500000',\n",
       " 'cts1_2uy3_len_161_0.675_0.219500000',\n",
       " 'cts1_2uy3_len_161_0.625_0.172000000',\n",
       " 'cts1_2uy3_len_161_0.650_0.191000000',\n",
       " 'cts1_2uy3_len_161_0.650_0.207000000',\n",
       " 'cts1_2uy3_len_161_0.675_0.223500000',\n",
       " 'cts1_2uy3_len_161_0.600_0.214000000',\n",
       " 'cts1_2uy3_len_161_0.650_0.209000000',\n",
       " 'cts1_2uy3_len_161_0.650_0.174000000',\n",
       " 'cts1_2uy3_len_161_0.650_0.206500000',\n",
       " 'cts1_2uy3_len_161_0.650_0.192000000',\n",
       " 'cts1_2uy3_len_161_0.650_0.174500000',\n",
       " 'cts1_2uy3_len_161_0.650_0.193000000',\n",
       " 'cts1_2uy3_len_161_0.625_0.207500000',\n",
       " 'cts1_2uy3_len_161_0.625_0.186500000',\n",
       " 'cts1_2uy3_len_161_0.675_0.176000000',\n",
       " 'cts1_2uy3_len_161_0.650_0.167000000',\n",
       " 'cts1_2uy3_len_161_0.675_0.175500000',\n",
       " 'cts1_2uy3_len_161_0.675_0.221000000',\n",
       " 'cts1_2uy3_len_161_0.675_0.181500000',\n",
       " 'cts1_2uy3_len_161_0.675_10.226500000',\n",
       " 'cts1_2uy3_len_161_0.675_10.231500000',\n",
       " 'cts1_2uy3_len_161_0.625_0.171500000',\n",
       " 'cts1_2uy3_len_161_0.650_0.167500000',\n",
       " 'cts1_2uy3_len_161_0.650_0.184000000',\n",
       " 'cts1_2uy3_len_161_0.625_0.186000000',\n",
       " 'cts1_2uy3_len_161_0.650_0.206000000',\n",
       " 'cts1_2uy3_len_161_0.650_0.194500000',\n",
       " 'cts1_2uy3_len_161_0.675_0.175000000',\n",
       " 'cts1_2uy3_len_161_0.625_0.212000000',\n",
       " 'cts1_2uy3_len_161_0.650_0.195500000',\n",
       " 'cts1_2uy3_len_161_0.675_0.179000000',\n",
       " 'cts1_2uy3_len_161_0.675_0.178000000',\n",
       " 'cts1_2uy3_len_161_0.650_0.170500000',\n",
       " 'cts1_2uy3_len_161_0.650_0.219000000',\n",
       " 'cts1_2uy3_len_161_0.600_0.214500000',\n",
       " 'cts1_2uy3_len_161_0.625_0.213000000']"
      ]
     },
     "execution_count": 44,
     "metadata": {},
     "output_type": "execute_result"
    }
   ],
   "source": [
    "clusters[3]\n"
   ]
  },
  {
   "cell_type": "code",
   "execution_count": 23,
   "metadata": {},
   "outputs": [
    {
     "data": {
      "text/plain": [
       "['cts1_2uy3_len_161_0.600_0.232000000',\n",
       " 'cts1_2uy3_len_161_0.600_0.248500000',\n",
       " 'cts1_2uy3_len_161_0.600_0.265000000',\n",
       " 'cts1_2uy3_len_161_0.600_0.229000000',\n",
       " 'cts1_2uy3_len_161_0.600_0.229500000',\n",
       " 'cts1_2uy3_len_161_0.600_0.257500000',\n",
       " 'cts1_2uy3_len_161_0.600_0.254500000',\n",
       " 'cts1_2uy3_len_161_0.600_0.226500000',\n",
       " 'cts1_2uy3_len_161_0.600_0.227000000',\n",
       " 'cts1_2uy3_len_161_0.600_0.234000000',\n",
       " 'cts1_2uy3_len_161_0.600_0.263500000',\n",
       " 'cts1_2uy3_len_161_0.600_0.271500000',\n",
       " 'cts1_2uy3_len_161_0.600_0.235000000',\n",
       " 'cts1_2uy3_len_161_0.600_0.234500000',\n",
       " 'cts1_2uy3_len_161_0.600_0.256500000',\n",
       " 'cts1_2uy3_len_161_0.600_0.272000000',\n",
       " 'cts1_2uy3_len_161_0.600_0.247500000',\n",
       " 'cts1_2uy3_len_161_0.600_0.228500000',\n",
       " 'cts1_2uy3_len_161_0.600_0.248000000',\n",
       " 'cts1_2uy3_len_161_0.600_0.255500000',\n",
       " 'cts1_2uy3_len_161_0.600_0.274500000',\n",
       " 'cts1_2uy3_len_161_0.600_0.246500000',\n",
       " 'cts1_2uy3_len_161_0.600_0.244500000',\n",
       " 'cts1_2uy3_len_161_0.600_0.264500000',\n",
       " 'cts1_2uy3_len_161_0.600_0.256000000',\n",
       " 'cts1_2uy3_len_161_0.600_0.233000000',\n",
       " 'cts1_2uy3_len_161_0.600_0.227500000',\n",
       " 'cts1_2uy3_len_161_0.600_0.243500000',\n",
       " 'cts1_2uy3_len_161_0.600_0.249500000',\n",
       " 'cts1_2uy3_len_161_0.600_0.245000000',\n",
       " 'cts1_2uy3_len_161_0.600_0.249000000',\n",
       " 'cts1_2uy3_len_161_0.600_0.275000000',\n",
       " 'cts1_2uy3_len_161_0.600_0.244000000',\n",
       " 'cts1_2uy3_len_161_0.600_0.264000000',\n",
       " 'cts1_2uy3_len_161_0.600_0.228000000',\n",
       " 'cts1_2uy3_len_161_0.600_0.226000000',\n",
       " 'cts1_2uy3_len_161_0.600_0.247000000',\n",
       " 'cts1_2uy3_len_161_0.600_0.233500000',\n",
       " 'cts1_2uy3_len_161_0.600_0.231000000',\n",
       " 'cts1_2uy3_len_161_0.600_0.246000000',\n",
       " 'cts1_2uy3_len_161_0.600_0.230500000',\n",
       " 'cts1_2uy3_len_161_0.600_0.231500000',\n",
       " 'cts1_2uy3_len_161_0.600_0.232500000',\n",
       " 'cts1_2uy3_len_161_0.600_0.254000000',\n",
       " 'cts1_2uy3_len_161_0.600_0.245500000']"
      ]
     },
     "execution_count": 23,
     "metadata": {},
     "output_type": "execute_result"
    }
   ],
   "source": [
    "clusters[6]"
   ]
  },
  {
   "cell_type": "code",
   "execution_count": null,
   "metadata": {},
   "outputs": [],
   "source": [
    "clusters"
   ]
  },
  {
   "cell_type": "markdown",
   "metadata": {},
   "source": [
    "# Folding rate calculation"
   ]
  },
  {
   "cell_type": "code",
   "execution_count": null,
   "metadata": {},
   "outputs": [],
   "source": []
  },
  {
   "cell_type": "markdown",
   "metadata": {},
   "source": [
    "Let us now proceed with calculating folding rates. Note that this expects files from unfolding simulations to be titled ProteinName_temperature_TrajectoryNumber.MCStep, for instance 1igd_0.500_0.50000000"
   ]
  },
  {
   "cell_type": "code",
   "execution_count": 7,
   "metadata": {
    "scrolled": true
   },
   "outputs": [
    {
     "name": "stdout",
     "output_type": "stream",
     "text": [
      "The unfolding path has been set as cts1_2uy3_len_161/Unfolding_scores.dat\n",
      "No unfolding data path has been set! Need to set unfolding path with self.set_unfolidng_path, or provide the directory using the optional argument unfolding_dir!\n",
      "The following parameters will be used to run HMM: \n",
      " f = 1.7 \n",
      " s = 0.01 \n",
      " m = 0.1 \n",
      " starting_state = abcdef \n",
      "Loading scores...\n"
     ]
    },
    {
     "name": "stderr",
     "output_type": "stream",
     "text": [
      "C:\\Users\\Olivia\\dbfold-master\\dbfold\\load_data.py:74: RuntimeWarning: Mean of empty slice\n",
      "  mean_substructure_distances.append(np.nanmean(x[np.where(x)]))\n"
     ]
    },
    {
     "name": "stdout",
     "output_type": "stream",
     "text": [
      "Training HMM...\n",
      "Computing kinetic distances...\n",
      "From this resulting distance map, you may choose to cluster by choosing an adjancy threshold T_A that results in a significant separation of exchange timescales\n"
     ]
    },
    {
     "data": {
      "image/png": "[encoded data removed]",
      "text/plain": [
       "<Figure size 432x288 with 2 Axes>"
      ]
     },
     "metadata": {
      "needs_background": "light"
     },
     "output_type": "display_data"
    }
   ],
   "source": [
    "protein161.set_unfolding_path('cts1_2uy3_len_161')\n",
    "protein161.runHMM(s=.01,m=0.1, starting_state = 'abcdef')"
   ]
  },
  {
   "cell_type": "markdown",
   "metadata": {},
   "source": [
    "We will use a kinetic threshold of 100 (note this is in units of millions of MC steps, so 100 means 100 million)"
   ]
  },
  {
   "cell_type": "code",
   "execution_count": 8,
   "metadata": {},
   "outputs": [
    {
     "name": "stdout",
     "output_type": "stream",
     "text": [
      "A value of T_A = 150 will be used to form clusters\n",
      "Doing loop clustering...\n",
      "We have obtained the following clusters: \n",
      " {0: ['abcdef'], 1: ['abcde', 'abcd', 'abd', 'ab', 'a'], 2: ['bcd', 'bd', 'd', 'b'], 3: ['∅']} \n",
      " Please make sure that unfolding rates fit well to Arrhenius equation before proceeding \n"
     ]
    }
   ],
   "source": [
    "protein161.form_clusters(T_A = 150)"
   ]
  },
  {
   "cell_type": "code",
   "execution_count": 9,
   "metadata": {},
   "outputs": [
    {
     "name": "stdout",
     "output_type": "stream",
     "text": [
      "Pathway \t \t fraction of flux\n",
      "[0, 1, 2, 3] \t \t 0.704 \n",
      "\n",
      "[0, 2, 3] \t \t 0.172 \n",
      "\n",
      "[0, 1, 3] \t \t 0.121 \n",
      "\n"
     ]
    }
   ],
   "source": [
    "pathways, unique_pathways, fracs =  dbfold.folding_rates.get_unfolding_pathways(protein161.temp_unfolding_info['combined_trajs'], protein161.temp_unfolding_info['PDB files'], goal_state = -1)\n"
   ]
  },
  {
   "cell_type": "markdown",
   "metadata": {},
   "source": [
    "Let's see how the resulting unfolding rates fit to the Arrhenius equation. Importantly,the Arrhenius temperatures are should be multipled by the Boltzmann constant (i.e. in units of energy) prior to inputting to this function"
   ]
  },
  {
   "cell_type": "code",
   "execution_count": 10,
   "metadata": {},
   "outputs": [
    {
     "name": "stdout",
     "output_type": "stream",
     "text": [
      "Computing temperature 0.9\n",
      "Computing temperature 0.925\n",
      "Computing temperature 0.95\n",
      "Computing temperature 0.975\n",
      "Computing temperature 1\n",
      "0.9618645819520123\n",
      "0.996660195726096\n",
      "0.995671820761867\n"
     ]
    }
   ],
   "source": [
    "%matplotlib qt\n",
    "\n",
    "activation_energies, prefactors, mean_transition_rates, Ns=dbfold.folding_rates.Arrhenius_fit([ 0.9, 0.925, 0.95, 0.975, 1], [(0,1), (1,2), (2,3)],\n",
    "                                                                         protein161.temp_unfolding_info['combined_trajs'],\n",
    "                                                                         protein161.temp_unfolding_info['PDB files'], \n",
    "                                                                         'Pathway 1',\n",
    "                                                                         legend_loc='lower left', min_trans = 3, fontsize = 20,\n",
    "                                                                         labelsize = 20, legend_fontsize = 20, show_rsquared = False,\n",
    "                                                                         colors = ['firebrick', 'mediumblue', 'gold'], temp_norm = 1, \n",
    "                                                                         labels = ['f unfolding', 'a unfolding', 'b and d unfold'])\n"
   ]
  },
  {
   "cell_type": "code",
   "execution_count": 11,
   "metadata": {},
   "outputs": [
    {
     "data": {
      "text/plain": [
       "array([[119., 120., 120., 120., 120.],\n",
       "       [108., 109., 104., 102.,  96.],\n",
       "       [ 47.,  71.,  98.,  99., 109.],\n",
       "       [ 18.,  50.,  92., 109., 120.]])"
      ]
     },
     "execution_count": 11,
     "metadata": {},
     "output_type": "execute_result"
    }
   ],
   "source": [
    "Ns\n"
   ]
  },
  {
   "cell_type": "markdown",
   "metadata": {},
   "source": [
    "If we agree to this Arrhenius fit, then we will go ahead and compute folding rates and obtain an error distribution by bootstrapping. Note that if you set N_trials=1000 as below, this will take a few minutes to run.\n"
   ]
  },
  {
   "cell_type": "code",
   "execution_count": 10,
   "metadata": {},
   "outputs": [
    {
     "name": "stdout",
     "output_type": "stream",
     "text": [
      "Folding info already exists! Loading now...\n",
      "Folding info successfully loaded\n"
     ]
    }
   ],
   "source": [
    "protein161.obtain_folding_rates(Arrhenius_temps=[ 0.9, 0.925, 0.95, 0.975, 1], unfolding_transitions_of_interest= [(0,1), (1,2), (2,3)], N_trials=1000, min_trans=3)"
   ]
  },
  {
   "cell_type": "markdown",
   "metadata": {},
   "source": [
    "Let us now plot some of these predicted folding rates"
   ]
  },
  {
   "cell_type": "code",
   "execution_count": 16,
   "metadata": {},
   "outputs": [],
   "source": [
    "%matplotlib qt\n",
    "\n",
    "fontsize = 20\n",
    "labelsize = 20\n",
    "TM = 1\n",
    "\n",
    "folding_rates.plot_folding_rates('cts1_2uy3_len_161/Folding_info.dat', ['b and d fold', 'a fold', 'f fold'], [(3,2), (2,1), (1,0)], fontsize = fontsize, labelsize = labelsize,              \n",
    "                                                               legend_fontsize = fontsize, temp_norm = TM, legend = True)\n",
    "\n"
   ]
  },
  {
   "cell_type": "code",
   "execution_count": 17,
   "metadata": {},
   "outputs": [
    {
     "data": {
      "text/plain": [
       "(1e-17, 1e-12)"
      ]
     },
     "execution_count": 17,
     "metadata": {},
     "output_type": "execute_result"
    }
   ],
   "source": [
    "fig, ax = plt.subplots()\n",
    "\n",
    "folding_rates.plot_folding_rates('cts1_2uy3_len_161/Folding_info.dat', '', [(2,1)], fontsize = fontsize, labelsize = labelsize,              \n",
    "                                                               legend_fontsize = fontsize, temp_norm = TM, legend = True, ax = ax, labels = ['length 161, [bcd, bd, d, b] -> [abcde, abcd, abd, ab]'])\n",
    "\n",
    "folding_rates.plot_folding_rates('cts1_2uy3_len_82/Folding_info.dat', '', [(3,2)], fontsize = fontsize, labelsize = labelsize,              \n",
    "                                                               legend_fontsize = fontsize, colors = ['green'], temp_norm = TM, legend = True, ax = ax, labels = ['length 82, [null] -> [a]'])\n",
    "\n",
    "folding_rates.plot_folding_rates('cts1_2uy3_len_50/Folding_info.dat', '', [(1,0)], fontsize = fontsize, labelsize = labelsize,              \n",
    "                                                               legend_fontsize = fontsize, colors = ['gold'], temp_norm = TM, legend = True, ax = ax, labels = ['length 50, [nul] -> [a]'])\n",
    "left, right = plt.xlim()\n",
    "plt.xlim(left = .5, right = .7)\n",
    "bottom, top = plt.ylim()\n",
    "plt.ylim(bottom = 10**(-17), top = 10**(-12))"
   ]
  },
  {
   "cell_type": "markdown",
   "metadata": {},
   "source": [
    "# Kinetic model"
   ]
  },
  {
   "cell_type": "markdown",
   "metadata": {},
   "source": [
    "In general, the kinetic model class is designed for modelling co-translational folding, but it can also be used to solve master equation for a single protein (at its fully synthesized length). We will do that for protein 161. "
   ]
  },
  {
   "cell_type": "code",
   "execution_count": null,
   "metadata": {},
   "outputs": [],
   "source": [
    "km = kinetic_model.Kinetic_model('1igd', [61], folding_rate_paths = ['1igd_data/Folding_info.dat'], omit_transitions = [(3,0)])\n",
    "#km.rates[0][3,0,:] = 0  #delete connections between 3 and 0 (abc and abcd) \n",
    "#since our method does not accurately predict this folding rate\n",
    "#km.rates[0][0,3,:] = 0\n",
    "km.diagonalize()\n",
    "\n",
    "\n"
   ]
  },
  {
   "cell_type": "markdown",
   "metadata": {},
   "source": [
    "We can now plot the solution to the master equation"
   ]
  },
  {
   "cell_type": "code",
   "execution_count": null,
   "metadata": {},
   "outputs": [],
   "source": [
    "fig, ax = plt.subplots()\n",
    "kinetic_model.plot_timecourse(km, 0.8, [5*10**(10)], [[4,3,2,1,0]], starting_state = -1, final_time = None, colors= ['k','gold', 'mediumblue', 'purple', 'firebrick'], \n",
    "                 linewidth = 8,colorchange = (None, None, None), scientific = True, ylim = (), ax = ax,ntimes = 200,fontsize=20, \n",
    "                 labelsize = 20, timenorm = 1, ylabel = True, xlabel= True)\n",
    "\n",
    "ax.legend(labels = ['$\\emptyset / b$', '(b)c', 'a(b)c', '(b)cd', 'a(b)cd'], fontsize = fontsize)\n",
    "ax.xaxis.get_offset_text().set_fontsize(20)\n",
    "\n",
    "ax.set_xlabel('Time (MC Steps)', fontsize = fontsize)\n"
   ]
  },
  {
   "cell_type": "code",
   "execution_count": null,
   "metadata": {},
   "outputs": [],
   "source": [
    "import importlib\n",
    "importlib.reload(dbfold.utils)\n",
    "importlib.reload(dbfold.folding_rates)\n",
    "importlib.reload(dbfold.compute_PMF)\n",
    "importlib.reload(dbfold.folding_rates)\n",
    "importlib.reload(dbfold.analyze_structures)\n",
    "importlib.reload(dbfold.nonnative_states)\n",
    "importlib.reload(dbfold.kinetic_model)\n",
    "\n",
    "\n",
    "\n",
    "\n"
   ]
  },
  {
   "cell_type": "code",
   "execution_count": null,
   "metadata": {},
   "outputs": [],
   "source": []
  },
  {
   "cell_type": "code",
   "execution_count": null,
   "metadata": {},
   "outputs": [],
   "source": []
  },
  {
   "cell_type": "code",
   "execution_count": null,
   "metadata": {},
   "outputs": [],
   "source": []
  }
 ],
 "metadata": {
  "kernelspec": {
   "display_name": "Python 3",
   "language": "python",
   "name": "python3"
  },
  "language_info": {
   "codemirror_mode": {
    "name": "ipython",
    "version": 3
   },
   "file_extension": ".py",
   "mimetype": "text/x-python",
   "name": "python",
   "nbconvert_exporter": "python",
   "pygments_lexer": "ipython3",
   "version": "3.7.7"
  }
 },
 "nbformat": 4,
 "nbformat_minor": 4
}
