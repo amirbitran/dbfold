{
 "cells": [
  {
   "cell_type": "markdown",
   "metadata": {},
   "source": [
    "# Update folding rates"
   ]
  },
  {
   "cell_type": "markdown",
   "metadata": {},
   "source": [
    "We will load the folding rates for protein G that we computed in dbfold_test. We willl then re-compute the abc to bc unfolding rate, and likewise the bc to abc folding rate, using new unfolding simulations that were initialized from the abc state. However, we do not actually use this data in the paper since these initial states were drawn from simulation snapshots prior to convergence--these were quite heterogenous and led to an appearence of abbarently fast unfolding of substructure a which was, in fact a result of misclassification. We in fact obtain better predictions of the true refolding rates if we use the unfolding simulations in dbfold_test, whcih were initialized from the native state. Nonetheless, this notebook provides a working example of how this re-computation of folding rates with new data could be done"
   ]
  },
  {
   "cell_type": "code",
   "execution_count": 1,
   "metadata": {},
   "outputs": [],
   "source": [
    "import dbfold\n",
    "from dbfold.dbfold import Protein as Protein\n",
    "import dbfold.analyze_structures as analyze_structures\n",
    "import dbfold.load_data as load_data\n",
    "import dbfold.compute_PMF as compute_PMF\n",
    "import dbfold.folding_rates as folding_rates\n",
    "import dbfold.kinetic_model as kinetic_model\n",
    "import dbfold.nonnative_states as nonnative_states\n",
    "import matplotlib.pyplot as plt\n",
    "\n"
   ]
  },
  {
   "cell_type": "code",
   "execution_count": 3,
   "metadata": {},
   "outputs": [
    {
     "name": "stdout",
     "output_type": "stream",
     "text": [
      "hi\n",
      "The equilibrium log datapath has been set as 1igd_data/Equilibrium_log_data.dat and the scorepath as 1igd_data/Equilibrium_scores.dat\n",
      "PMFs already exist! Loading now...\n",
      "PMFs successfully loaded\n",
      "Substructures set for protein\n",
      "Value of f = 1.7 set for protein\n",
      "Folding info already exists! Loading now...\n",
      "Folding info successfully loaded\n"
     ]
    }
   ],
   "source": [
    "proteinG = Protein('protein G','1igd_data/1igd_0.200_20_Emin.pdb')\n",
    "proteinG.obtain_PMFs(eq_dir = '1igd_data')\n",
    "proteinG.obtain_folding_rates()"
   ]
  },
  {
   "cell_type": "markdown",
   "metadata": {},
   "source": [
    "Load the unfolding data starting from the abc state:"
   ]
  },
  {
   "cell_type": "code",
   "execution_count": 1,
   "metadata": {},
   "outputs": [
    {
     "ename": "NameError",
     "evalue": "name 'proteinG' is not defined",
     "output_type": "error",
     "traceback": [
      "\u001b[0;31m---------------------------------------------------------------------------\u001b[0m",
      "\u001b[0;31mNameError\u001b[0m                                 Traceback (most recent call last)",
      "\u001b[0;32m<ipython-input-1-dd133a8b449d>\u001b[0m in \u001b[0;36m<module>\u001b[0;34m\u001b[0m\n\u001b[1;32m      1\u001b[0m \u001b[0mget_ipython\u001b[0m\u001b[0;34m(\u001b[0m\u001b[0;34m)\u001b[0m\u001b[0;34m.\u001b[0m\u001b[0mrun_line_magic\u001b[0m\u001b[0;34m(\u001b[0m\u001b[0;34m'matplotlib'\u001b[0m\u001b[0;34m,\u001b[0m \u001b[0;34m'tk'\u001b[0m\u001b[0;34m)\u001b[0m\u001b[0;34m\u001b[0m\u001b[0;34m\u001b[0m\u001b[0m\n\u001b[0;32m----> 2\u001b[0;31m \u001b[0mproteinG\u001b[0m\u001b[0;34m.\u001b[0m\u001b[0mrunHMM\u001b[0m\u001b[0;34m(\u001b[0m\u001b[0mstarting_state\u001b[0m\u001b[0;34m=\u001b[0m\u001b[0;34m'abc'\u001b[0m\u001b[0;34m,\u001b[0m \u001b[0munfolding_dir\u001b[0m\u001b[0;34m=\u001b[0m\u001b[0;34m'1igd_data'\u001b[0m\u001b[0;34m,\u001b[0m \u001b[0mscore_filename\u001b[0m\u001b[0;34m=\u001b[0m\u001b[0;34m'Unfolding_scores_start_abc.dat'\u001b[0m \u001b[0;34m)\u001b[0m\u001b[0;34m\u001b[0m\u001b[0;34m\u001b[0m\u001b[0m\n\u001b[0m",
      "\u001b[0;31mNameError\u001b[0m: name 'proteinG' is not defined"
     ]
    }
   ],
   "source": [
    "%matplotlib tk\n",
    "proteinG.runHMM(starting_state='abc', unfolding_dir='1igd_data', score_filename='Unfolding_scores_start_abc.dat' )"
   ]
  },
  {
   "cell_type": "code",
   "execution_count": 5,
   "metadata": {},
   "outputs": [
    {
     "name": "stdout",
     "output_type": "stream",
     "text": [
      "A value of T_A = 10 will be used to form clusters\n",
      "Doing loop clustering...\n",
      "We have obtained the following clusters: \n",
      " {0: ['abcd'], 1: ['bcd'], 2: ['acd'], 3: ['abc', 'ac'], 4: ['cd'], 5: ['bc', 'c'], 6: ['ab', 'a'], 7: ['b', '∅']} \n",
      " Please make sure that unfolding rates fit well to Arrhenius equation before proceeding \n"
     ]
    }
   ],
   "source": [
    "proteinG.form_clusters(T_A = 10)"
   ]
  },
  {
   "cell_type": "code",
   "execution_count": 7,
   "metadata": {},
   "outputs": [
    {
     "name": "stdout",
     "output_type": "stream",
     "text": [
      "Computing temperature 0.9\n",
      "Computing temperature 0.925\n",
      "Computing temperature 0.95\n",
      "Computing temperature 0.975\n",
      "Computing temperature 1\n",
      "0.9653364152724645\n",
      "0.969197324924611\n"
     ]
    }
   ],
   "source": [
    "activation_energies, prefactors, mean_transition_rates, Ns=folding_rates.Arrhenius_fit([ 0.9, 0.925, 0.95, 0.975, 1], [ (3,5), (5,7)],\n",
    "                                                                         proteinG.temp_unfolding_info['combined_trajs'],\n",
    "                                                                         proteinG.temp_unfolding_info['PDB files'], \n",
    "                                                                         'Pathway 1', min_trans=1)"
   ]
  },
  {
   "cell_type": "code",
   "execution_count": 11,
   "metadata": {},
   "outputs": [
    {
     "data": {
      "text/plain": [
       "{0: ['abcd', 'acd'],\n",
       " 1: ['bcd', 'cd'],\n",
       " 2: ['abd', 'ad'],\n",
       " 3: ['abc', 'ac'],\n",
       " 4: ['bd', 'd'],\n",
       " 5: ['bc', 'c'],\n",
       " 6: ['ab', 'a'],\n",
       " 7: ['b', '∅']}"
      ]
     },
     "execution_count": 11,
     "metadata": {},
     "output_type": "execute_result"
    }
   ],
   "source": [
    "proteinG.folding_info['clusters_dic']"
   ]
  },
  {
   "cell_type": "markdown",
   "metadata": {},
   "source": [
    "In this case, the old and new cluster numbering correspond exactly"
   ]
  },
  {
   "cell_type": "code",
   "execution_count": 11,
   "metadata": {},
   "outputs": [
    {
     "name": "stdout",
     "output_type": "stream",
     "text": [
      "Computing temperature 0.9\n",
      "Computing temperature 0.925\n",
      "Computing temperature 0.95\n",
      "Computing temperature 0.975\n",
      "Computing temperature 1\n",
      "0.9653364152724645\n",
      "0.969197324924611\n",
      "Running 1000 bootstrap trials to compute error on unfolding rates...\n",
      "0 trials completed\n",
      "100 trials completed\n",
      "200 trials completed\n",
      "300 trials completed\n",
      "400 trials completed\n",
      "500 trials completed\n",
      "600 trials completed\n",
      "700 trials completed\n",
      "800 trials completed\n",
      "900 trials completed\n",
      "Bootstrap complete\n",
      "Computing cluster free energies...\n",
      "Inferring unknown folding rates from detailed balance...\n"
     ]
    }
   ],
   "source": [
    "proteinG.update_folding_rates([ 0.9, 0.925, 0.95, 0.975, 1],[ (3,5), (5,7)], {3:3, 5:5, 7:7},N_trials=1000, min_trans = 1 )"
   ]
  },
  {
   "cell_type": "markdown",
   "metadata": {},
   "source": [
    "We can plot these rates"
   ]
  },
  {
   "cell_type": "code",
   "execution_count": 12,
   "metadata": {},
   "outputs": [
    {
     "name": "stderr",
     "output_type": "stream",
     "text": [
      "/Users/amirbitran/Dropbox/CurrentStuff/Harvard/Shakhnovich Lab/dbfold/dbfold/folding_rates.py:386: RuntimeWarning: invalid value encountered in double_scalars\n",
      "  deltaG[i,j]=G[j]-G[i]\n"
     ]
    },
    {
     "data": {
      "text/plain": [
       "(4.9999999999999995e-11, 1e-07)"
      ]
     },
     "execution_count": 12,
     "metadata": {},
     "output_type": "execute_result"
    }
   ],
   "source": [
    "fontsize = 20\n",
    "labelsize = 20\n",
    "TM = 0.879\n",
    "\n",
    "folding_rates.plot_folding_rates('1igd_data/Folding_info.dat', '$\\emptyset/b$ -> (b)c', [(7,5)], fontsize = fontsize, labelsize = labelsize,              \n",
    "                                                               legend_fontsize = fontsize, colors = ['gold'], temp_norm = TM, legend = False)\n",
    "\n",
    "plt.xlim((0.82, 1.14))\n",
    "plt.ylim((5*10**(-11), 10**(-7)))\n",
    "\n",
    "folding_rates.plot_folding_rates('1igd_data/Folding_info.dat', '(b)c -> a(b)c', [(5,3)], fontsize = fontsize, labelsize = labelsize,              \n",
    "                                                               legend_fontsize = fontsize, colors = ['mediumblue'], temp_norm = TM, legend = False)\n",
    "plt.xlim((0.82, 1.14))\n",
    "plt.ylim((5*10**(-11), 10**(-7)))\n",
    "\n"
   ]
  },
  {
   "cell_type": "markdown",
   "metadata": {},
   "source": [
    "The (b)c to a(b)c transition, in particular, shows very different quantiative and qualitative behavior as a funciton of temperature as compared to the prediction if Unfolding_scores.dat is used. But we expect these new predictions to be inaccurate for the reasons explained at the beginning of this notebok "
   ]
  },
  {
   "cell_type": "code",
   "execution_count": 10,
   "metadata": {},
   "outputs": [
    {
     "data": {
      "text/plain": [
       "<module 'dbfold.folding_rates' from '/Users/amirbitran/Dropbox/CurrentStuff/Harvard/Shakhnovich Lab/dbfold/dbfold/folding_rates.py'>"
      ]
     },
     "execution_count": 10,
     "metadata": {},
     "output_type": "execute_result"
    }
   ],
   "source": [
    "import importlib\n",
    "\n",
    "importlib.reload(dbfold.folding_rates)\n",
    "\n"
   ]
  },
  {
   "cell_type": "code",
   "execution_count": null,
   "metadata": {},
   "outputs": [],
   "source": []
  }
 ],
 "metadata": {
  "kernelspec": {
   "display_name": "Python 3",
   "language": "python",
   "name": "python3"
  },
  "language_info": {
   "codemirror_mode": {
    "name": "ipython",
    "version": 3
   },
   "file_extension": ".py",
   "mimetype": "text/x-python",
   "name": "python",
   "nbconvert_exporter": "python",
   "pygments_lexer": "ipython3",
   "version": "3.7.3"
  }
 },
 "nbformat": 4,
 "nbformat_minor": 2
}
